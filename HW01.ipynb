{
 "cells": [
  {
   "cell_type": "markdown",
   "metadata": {},
   "source": [
    "### Joshua Lim - ML HW01\n",
    "### 1a)\n",
    "Suppose point $X$, where $X \\in \\mathbb{R}^n$ is a point satisfying $\\theta⋅X+\\theta_0=0$. Let the vector $y - X$ be $\\lambda$. Then the distance from point $y$ to the hyperplane would be the projection of vector $\\lambda$ onto the normal unit vector $\\hat{\\theta}$. \n",
    "\n",
    "\\begin{align*}\n",
    "  &\\hat{\\theta} = \\displaystyle \\frac{\\theta}{||\\theta||}\\\\\n",
    "  &d = |\\hat{\\theta}⋅\\lambda|\\\\\n",
    "  &d = \\displaystyle \\frac{\\theta⋅(y - X)}{||\\theta||}\\\\\n",
    "  &Since\\; \\theta⋅X=−\\theta_0,\\\\\n",
    "  &d = \\displaystyle \\frac{\\theta⋅y + \\theta_0}{||\\theta||}\n",
    "\\end{align*}\n",
    "### 1b)\n",
    "\\begin{align*}\n",
    "  P(Z =k) &= P(X+ Y =k)\\\\\n",
    "    &= \\sum_{i=0}^k P(X = k-i , Y =i)\\\\\n",
    "    &= \\sum_{i=0}^k P(X = k-i)P(Y=i)\\\\\n",
    "    &= \\sum_{i=0}^k e^{-\\alpha}\\frac{\\alpha^{k-i}}{(k-i)!}e^{-\\beta}\\frac{\\beta^i}{i!}\\\\\n",
    "   &= e^{-(\\alpha + \\beta)}\\frac 1{k!}\\sum_{i=0}^k \\frac{k!}{i!(k-i)!}\\alpha^{k-i}\\beta^i\\\\\n",
    "   &= e^{-(\\alpha + \\beta)}\\frac 1{k!}\\sum_{i=0}^k \\binom ki\\alpha^{k-i}\\beta^i\\\\\n",
    "   &= \\frac{(\\alpha + \\beta)^k}{k!} \\cdot e^{-(\\alpha + \\beta)}\\\\\n",
    "   \\\\\n",
    "   where\\;\\gamma &= \\alpha + \\beta\n",
    "\\end{align*}\n"
   ]
  },
  {
   "cell_type": "code",
   "execution_count": 6,
   "metadata": {},
   "outputs": [
    {
     "name": "stdout",
     "output_type": "stream",
     "text": [
      "3.6.1 |Anaconda 4.4.0 (64-bit)| (default, May 11 2017, 13:25:24) [MSC v.1900 64 bit (AMD64)]\n",
      "0.9.0.dev-c697eeab84e5b8a74908da654b66ec9eca4f1291\n",
      "The python version is 3.6.1\n",
      "The theano version is 0.9.0\n"
     ]
    }
   ],
   "source": [
    "# Qn 2A\n",
    "import sys\n",
    "print (sys.version)\n",
    "\n",
    "import theano\n",
    "print (theano.__version__)\n",
    "\n",
    "print(\"The python version is 3.6.1\")\n",
    "print(\"The theano version is 0.9.0\")"
   ]
  },
  {
   "cell_type": "code",
   "execution_count": 2,
   "metadata": {
    "scrolled": true
   },
   "outputs": [
    {
     "name": "stdout",
     "output_type": "stream",
     "text": [
      "[-0.57392068  1.35757059  0.01527565 -1.88288076]\n"
     ]
    }
   ],
   "source": [
    "# Qn 3A\n",
    "import numpy as np\n",
    "import theano\n",
    "import theano.tensor as T\n",
    "\n",
    "csv='https://www.dropbox.com/s/oqoyy9p849ewzt2/linear.csv?dl=1'\n",
    "data = np.genfromtxt(csv,delimiter =',')\n",
    "X=data[:,1:]\n",
    "Y=data[:,0]\n",
    "\n",
    "d=X.shape[1]#dimension of feature vectors\n",
    "n=X.shape[0]#number of training samples\n",
    "learn_rate=0.5#learning rate for gradient descent\n",
    "\n",
    "x=T.matrix(name='x')#feature matrix\n",
    "y=T.vector(name='y')#response vector\n",
    "w=theano.shared(np.zeros((d,1)),name='w')#model parameters\n",
    "\n",
    "risk=T.sum((T.dot(x,w).T-y)**2)/2/n#empiricalrisk\n",
    "grad_risk=T.grad(risk,wrt=w)#gradientoftherisk\n",
    "train_model=theano.function(inputs=[],\n",
    "                            outputs=risk,\n",
    "                            updates=[(w,w-learn_rate*grad_risk)],\n",
    "                            givens={x:X, y:Y})\n",
    "\n",
    "n_steps=50\n",
    "for i in range(n_steps):\n",
    "    train_model()\n",
    "print(np.ravel(w.get_value()))"
   ]
  },
  {
   "cell_type": "code",
   "execution_count": 3,
   "metadata": {
    "scrolled": true
   },
   "outputs": [
    {
     "name": "stdout",
     "output_type": "stream",
     "text": [
      "[-0.57392068  1.35757059  0.01527565 -1.88288076]\n"
     ]
    }
   ],
   "source": [
    "# Qn 3B\n",
    "import numpy as np\n",
    "\n",
    "csv='https://www.dropbox.com/s/oqoyy9p849ewzt2/linear.csv?dl=1'\n",
    "data = np.genfromtxt(csv,delimiter =',')\n",
    "X=data[:,1:]\n",
    "Y=data[:,0]\n",
    "\n",
    "#theta = inv(X_trans*X)*X_trans*Y\n",
    "X_trans = np.transpose(X)\n",
    "inv = np.linalg.inv(np.dot(X_trans,X))\n",
    "X_ = np.dot(inv,X_trans)\n",
    "theta = np.dot(X_,Y)\n",
    "print (theta)"
   ]
  },
  {
   "cell_type": "code",
   "execution_count": 1,
   "metadata": {},
   "outputs": [
    {
     "name": "stdout",
     "output_type": "stream",
     "text": [
      "[-0.57392068  1.35757059  0.01527565 -1.88288076]\n"
     ]
    }
   ],
   "source": [
    "# Qn 3C\n",
    "import numpy as np\n",
    "csv='https://www.dropbox.com/s/oqoyy9p849ewzt2/linear.csv?dl=1'\n",
    "data = np.genfromtxt(csv,delimiter =',')\n",
    "X=data[:,1:]\n",
    "Y=data[:,0]\n",
    "\n",
    "print (np.linalg.lstsq(X,Y)[0])"
   ]
  }
 ],
 "metadata": {
  "kernelspec": {
   "display_name": "Python 3",
   "language": "python",
   "name": "python3"
  },
  "language_info": {
   "codemirror_mode": {
    "name": "ipython",
    "version": 3
   },
   "file_extension": ".py",
   "mimetype": "text/x-python",
   "name": "python",
   "nbconvert_exporter": "python",
   "pygments_lexer": "ipython3",
   "version": "3.6.1"
  }
 },
 "nbformat": 4,
 "nbformat_minor": 2
}
